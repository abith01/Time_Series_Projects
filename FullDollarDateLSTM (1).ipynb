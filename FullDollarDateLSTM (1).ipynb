{
 "cells": [
  {
   "cell_type": "code",
   "execution_count": 2,
   "id": "78c8ac1a",
   "metadata": {},
   "outputs": [],
   "source": [
    "import pandas as pd\n",
    "import numpy as np\n",
    "from sklearn.preprocessing import MinMaxScaler\n",
    "from tensorflow.keras.models import Sequential\n",
    "from tensorflow.keras.layers import Dense, LSTM\n",
    "from sklearn.metrics import mean_squared_error\n"
   ]
  },
  {
   "cell_type": "code",
   "execution_count": 3,
   "id": "a72ff788",
   "metadata": {},
   "outputs": [
    {
     "data": {
      "text/html": [
       "<div>\n",
       "<style scoped>\n",
       "    .dataframe tbody tr th:only-of-type {\n",
       "        vertical-align: middle;\n",
       "    }\n",
       "\n",
       "    .dataframe tbody tr th {\n",
       "        vertical-align: top;\n",
       "    }\n",
       "\n",
       "    .dataframe thead th {\n",
       "        text-align: right;\n",
       "    }\n",
       "</style>\n",
       "<table border=\"1\" class=\"dataframe\">\n",
       "  <thead>\n",
       "    <tr style=\"text-align: right;\">\n",
       "      <th></th>\n",
       "      <th>Date</th>\n",
       "      <th>Dollar_Rate</th>\n",
       "    </tr>\n",
       "  </thead>\n",
       "  <tbody>\n",
       "    <tr>\n",
       "      <th>0</th>\n",
       "      <td>Dec 25, 2022</td>\n",
       "      <td>82.717</td>\n",
       "    </tr>\n",
       "    <tr>\n",
       "      <th>1</th>\n",
       "      <td>Dec 18, 2022</td>\n",
       "      <td>82.780</td>\n",
       "    </tr>\n",
       "    <tr>\n",
       "      <th>2</th>\n",
       "      <td>Dec 11, 2022</td>\n",
       "      <td>82.706</td>\n",
       "    </tr>\n",
       "    <tr>\n",
       "      <th>3</th>\n",
       "      <td>Dec 04, 2022</td>\n",
       "      <td>82.410</td>\n",
       "    </tr>\n",
       "    <tr>\n",
       "      <th>4</th>\n",
       "      <td>Nov 27, 2022</td>\n",
       "      <td>81.410</td>\n",
       "    </tr>\n",
       "    <tr>\n",
       "      <th>...</th>\n",
       "      <td>...</td>\n",
       "      <td>...</td>\n",
       "    </tr>\n",
       "    <tr>\n",
       "      <th>8387</th>\n",
       "      <td>Jan 02, 1980</td>\n",
       "      <td>8.000</td>\n",
       "    </tr>\n",
       "    <tr>\n",
       "      <th>8388</th>\n",
       "      <td>Dec 31, 1979</td>\n",
       "      <td>8.000</td>\n",
       "    </tr>\n",
       "    <tr>\n",
       "      <th>8389</th>\n",
       "      <td>Dec 28, 1979</td>\n",
       "      <td>8.000</td>\n",
       "    </tr>\n",
       "    <tr>\n",
       "      <th>8390</th>\n",
       "      <td>Dec 27, 1979</td>\n",
       "      <td>8.100</td>\n",
       "    </tr>\n",
       "    <tr>\n",
       "      <th>8391</th>\n",
       "      <td>Dec 26, 1979</td>\n",
       "      <td>8.140</td>\n",
       "    </tr>\n",
       "  </tbody>\n",
       "</table>\n",
       "<p>8392 rows × 2 columns</p>\n",
       "</div>"
      ],
      "text/plain": [
       "              Date  Dollar_Rate\n",
       "0     Dec 25, 2022       82.717\n",
       "1     Dec 18, 2022       82.780\n",
       "2     Dec 11, 2022       82.706\n",
       "3     Dec 04, 2022       82.410\n",
       "4     Nov 27, 2022       81.410\n",
       "...            ...          ...\n",
       "8387  Jan 02, 1980        8.000\n",
       "8388  Dec 31, 1979        8.000\n",
       "8389  Dec 28, 1979        8.000\n",
       "8390  Dec 27, 1979        8.100\n",
       "8391  Dec 26, 1979        8.140\n",
       "\n",
       "[8392 rows x 2 columns]"
      ]
     },
     "execution_count": 3,
     "metadata": {},
     "output_type": "execute_result"
    }
   ],
   "source": [
    "import pandas as pd\n",
    "df=pd.read_csv(r\"C:\\Users\\arunj\\Desktop\\Time Series Project\\jupiter notebook\\DollarFullDate.csv\")\n",
    "df"
   ]
  },
  {
   "cell_type": "code",
   "execution_count": 10,
   "id": "2c3dbafd",
   "metadata": {},
   "outputs": [],
   "source": [
    "df = df[::-1]"
   ]
  },
  {
   "cell_type": "code",
   "execution_count": 11,
   "id": "da6297fd",
   "metadata": {},
   "outputs": [],
   "source": [
    "# preprocess the dataset\n",
    "df['Date'] = pd.to_datetime(df['Date'])\n",
    "df = df.set_index('Date')\n",
    "df = df.dropna()\n"
   ]
  },
  {
   "cell_type": "code",
   "execution_count": 12,
   "id": "feb1b23f",
   "metadata": {},
   "outputs": [],
   "source": [
    "# create train and test data\n",
    "train_data = df[:int(0.8*len(df))]\n",
    "test_data = df[int(0.8*len(df)):]\n"
   ]
  },
  {
   "cell_type": "code",
   "execution_count": 13,
   "id": "60fab12f",
   "metadata": {},
   "outputs": [],
   "source": [
    "# scale the data\n",
    "scaler = MinMaxScaler()\n",
    "train_data_scaled = scaler.fit_transform(train_data)\n",
    "test_data_scaled = scaler.transform(test_data)\n"
   ]
  },
  {
   "cell_type": "code",
   "execution_count": 14,
   "id": "5dcd1fa1",
   "metadata": {},
   "outputs": [],
   "source": [
    "# split data into X and y\n",
    "X_train = []\n",
    "y_train = []\n",
    "for i in range(12, len(train_data)):\n",
    "    X_train.append(train_data_scaled[i-12:i, :])\n",
    "    y_train.append(train_data_scaled[i, 0])\n",
    "X_train, y_train = np.array(X_train), np.array(y_train)\n",
    "\n",
    "X_test = []\n",
    "y_test = []\n",
    "for i in range(12, len(test_data)):\n",
    "    X_test.append(test_data_scaled[i-12:i, :])\n",
    "    y_test.append(test_data_scaled[i, 0])\n",
    "X_test, y_test = np.array(X_test), np.array(y_test)\n"
   ]
  },
  {
   "cell_type": "code",
   "execution_count": 15,
   "id": "98b06e31",
   "metadata": {},
   "outputs": [],
   "source": [
    "# build the LSTM model\n",
    "model = Sequential()\n",
    "model.add(LSTM(units=50, return_sequences=True, input_shape=(X_train.shape[1], X_train.shape[2])))\n",
    "model.add(LSTM(units=50, return_sequences=False))\n",
    "model.add(Dense(units=1))\n",
    "model.compile(optimizer='adam', loss='mean_squared_error')\n"
   ]
  },
  {
   "cell_type": "code",
   "execution_count": 16,
   "id": "e2315958",
   "metadata": {},
   "outputs": [
    {
     "name": "stdout",
     "output_type": "stream",
     "text": [
      "Epoch 1/100\n",
      "419/419 [==============================] - 9s 10ms/step - loss: 0.0051\n",
      "Epoch 2/100\n",
      "419/419 [==============================] - 4s 10ms/step - loss: 4.1550e-05\n",
      "Epoch 3/100\n",
      "419/419 [==============================] - 4s 10ms/step - loss: 4.0595e-05\n",
      "Epoch 4/100\n",
      "419/419 [==============================] - 4s 10ms/step - loss: 4.4412e-05\n",
      "Epoch 5/100\n",
      "419/419 [==============================] - 5s 11ms/step - loss: 4.6492e-05\n",
      "Epoch 6/100\n",
      "419/419 [==============================] - 4s 11ms/step - loss: 4.9527e-05\n",
      "Epoch 7/100\n",
      "419/419 [==============================] - 5s 11ms/step - loss: 4.7678e-05\n",
      "Epoch 8/100\n",
      "419/419 [==============================] - 4s 10ms/step - loss: 5.3642e-05\n",
      "Epoch 9/100\n",
      "419/419 [==============================] - 4s 10ms/step - loss: 6.5108e-05\n",
      "Epoch 10/100\n",
      "419/419 [==============================] - 4s 10ms/step - loss: 5.4758e-05\n",
      "Epoch 11/100\n",
      "419/419 [==============================] - 4s 11ms/step - loss: 5.7921e-05\n",
      "Epoch 12/100\n",
      "419/419 [==============================] - 4s 10ms/step - loss: 4.5518e-05\n",
      "Epoch 13/100\n",
      "419/419 [==============================] - 4s 10ms/step - loss: 4.0755e-05\n",
      "Epoch 14/100\n",
      "419/419 [==============================] - 4s 10ms/step - loss: 4.8324e-05\n",
      "Epoch 15/100\n",
      "419/419 [==============================] - 4s 9ms/step - loss: 4.3540e-05\n",
      "Epoch 16/100\n",
      "419/419 [==============================] - 4s 10ms/step - loss: 4.4942e-05\n",
      "Epoch 17/100\n",
      "419/419 [==============================] - 4s 10ms/step - loss: 5.0100e-05\n",
      "Epoch 18/100\n",
      "419/419 [==============================] - 5s 11ms/step - loss: 3.8306e-05\n",
      "Epoch 19/100\n",
      "419/419 [==============================] - 4s 10ms/step - loss: 2.9514e-05\n",
      "Epoch 20/100\n",
      "419/419 [==============================] - 4s 10ms/step - loss: 3.6407e-05\n",
      "Epoch 21/100\n",
      "419/419 [==============================] - 4s 9ms/step - loss: 3.1521e-05\n",
      "Epoch 22/100\n",
      "419/419 [==============================] - 4s 10ms/step - loss: 3.5432e-05\n",
      "Epoch 23/100\n",
      "419/419 [==============================] - 4s 10ms/step - loss: 2.9192e-05\n",
      "Epoch 24/100\n",
      "419/419 [==============================] - 4s 9ms/step - loss: 3.3473e-05\n",
      "Epoch 25/100\n",
      "419/419 [==============================] - 4s 9ms/step - loss: 2.5359e-05\n",
      "Epoch 26/100\n",
      "419/419 [==============================] - 4s 10ms/step - loss: 2.7133e-05\n",
      "Epoch 27/100\n",
      "419/419 [==============================] - 5s 12ms/step - loss: 2.4399e-05\n",
      "Epoch 28/100\n",
      "419/419 [==============================] - 5s 12ms/step - loss: 2.5468e-05\n",
      "Epoch 29/100\n",
      "419/419 [==============================] - 5s 12ms/step - loss: 2.1947e-05\n",
      "Epoch 30/100\n",
      "419/419 [==============================] - 5s 11ms/step - loss: 2.6306e-05\n",
      "Epoch 31/100\n",
      "419/419 [==============================] - 5s 11ms/step - loss: 2.0322e-05\n",
      "Epoch 32/100\n",
      "419/419 [==============================] - 5s 11ms/step - loss: 1.5193e-05\n",
      "Epoch 33/100\n",
      "419/419 [==============================] - 4s 10ms/step - loss: 2.0658e-05\n",
      "Epoch 34/100\n",
      "419/419 [==============================] - 4s 10ms/step - loss: 1.5990e-05\n",
      "Epoch 35/100\n",
      "419/419 [==============================] - 5s 11ms/step - loss: 1.4394e-05\n",
      "Epoch 36/100\n",
      "419/419 [==============================] - 7s 16ms/step - loss: 1.5026e-05\n",
      "Epoch 37/100\n",
      "419/419 [==============================] - 7s 16ms/step - loss: 2.0274e-05\n",
      "Epoch 38/100\n",
      "419/419 [==============================] - 5s 12ms/step - loss: 1.3482e-05\n",
      "Epoch 39/100\n",
      "419/419 [==============================] - 6s 13ms/step - loss: 1.6466e-05\n",
      "Epoch 40/100\n",
      "419/419 [==============================] - 6s 14ms/step - loss: 1.5925e-05\n",
      "Epoch 41/100\n",
      "419/419 [==============================] - 6s 14ms/step - loss: 1.3745e-05\n",
      "Epoch 42/100\n",
      "419/419 [==============================] - 6s 15ms/step - loss: 1.9404e-05\n",
      "Epoch 43/100\n",
      "419/419 [==============================] - 6s 14ms/step - loss: 1.3960e-05\n",
      "Epoch 44/100\n",
      "419/419 [==============================] - 6s 14ms/step - loss: 1.4833e-05\n",
      "Epoch 45/100\n",
      "419/419 [==============================] - 6s 14ms/step - loss: 1.3029e-05\n",
      "Epoch 46/100\n",
      "419/419 [==============================] - 6s 14ms/step - loss: 1.6843e-05\n",
      "Epoch 47/100\n",
      "419/419 [==============================] - 7s 16ms/step - loss: 1.1219e-05\n",
      "Epoch 48/100\n",
      "419/419 [==============================] - 6s 14ms/step - loss: 1.1314e-05\n",
      "Epoch 49/100\n",
      "419/419 [==============================] - 5s 11ms/step - loss: 2.9205e-05\n",
      "Epoch 50/100\n",
      "419/419 [==============================] - 5s 12ms/step - loss: 1.1641e-05\n",
      "Epoch 51/100\n",
      "419/419 [==============================] - 5s 11ms/step - loss: 1.2755e-05\n",
      "Epoch 52/100\n",
      "419/419 [==============================] - 5s 12ms/step - loss: 1.0538e-05\n",
      "Epoch 53/100\n",
      "419/419 [==============================] - 5s 12ms/step - loss: 1.2199e-05\n",
      "Epoch 54/100\n",
      "419/419 [==============================] - 4s 11ms/step - loss: 9.5294e-06\n",
      "Epoch 55/100\n",
      "419/419 [==============================] - 5s 11ms/step - loss: 1.1387e-05\n",
      "Epoch 56/100\n",
      "419/419 [==============================] - 5s 11ms/step - loss: 1.3681e-05\n",
      "Epoch 57/100\n",
      "419/419 [==============================] - 5s 11ms/step - loss: 1.2336e-05\n",
      "Epoch 58/100\n",
      "419/419 [==============================] - 5s 12ms/step - loss: 1.3976e-05\n",
      "Epoch 59/100\n",
      "419/419 [==============================] - 5s 13ms/step - loss: 1.1339e-05\n",
      "Epoch 60/100\n",
      "419/419 [==============================] - 5s 12ms/step - loss: 1.2162e-05\n",
      "Epoch 61/100\n",
      "419/419 [==============================] - 5s 13ms/step - loss: 1.1495e-05\n",
      "Epoch 62/100\n",
      "419/419 [==============================] - 5s 12ms/step - loss: 1.5812e-05\n",
      "Epoch 63/100\n",
      "419/419 [==============================] - 5s 11ms/step - loss: 1.0515e-05\n",
      "Epoch 64/100\n",
      "419/419 [==============================] - 5s 12ms/step - loss: 8.8888e-06\n",
      "Epoch 65/100\n",
      "419/419 [==============================] - 5s 12ms/step - loss: 1.2589e-05\n",
      "Epoch 66/100\n",
      "419/419 [==============================] - 5s 11ms/step - loss: 1.0785e-05\n",
      "Epoch 67/100\n",
      "419/419 [==============================] - 5s 11ms/step - loss: 1.0005e-05\n",
      "Epoch 68/100\n",
      "419/419 [==============================] - 4s 10ms/step - loss: 1.2838e-05\n",
      "Epoch 69/100\n",
      "419/419 [==============================] - 4s 10ms/step - loss: 1.2249e-05\n",
      "Epoch 70/100\n",
      "419/419 [==============================] - 4s 11ms/step - loss: 1.2556e-05\n",
      "Epoch 71/100\n",
      "419/419 [==============================] - 5s 12ms/step - loss: 9.2746e-06\n",
      "Epoch 72/100\n",
      "419/419 [==============================] - 5s 12ms/step - loss: 9.7089e-06\n",
      "Epoch 73/100\n",
      "419/419 [==============================] - 5s 13ms/step - loss: 1.2726e-05\n",
      "Epoch 74/100\n",
      "419/419 [==============================] - 5s 12ms/step - loss: 1.1318e-05\n",
      "Epoch 75/100\n",
      "419/419 [==============================] - 5s 13ms/step - loss: 1.2617e-05\n",
      "Epoch 76/100\n",
      "419/419 [==============================] - 5s 12ms/step - loss: 9.7479e-06\n",
      "Epoch 77/100\n",
      "419/419 [==============================] - 5s 12ms/step - loss: 1.1294e-05\n",
      "Epoch 78/100\n",
      "419/419 [==============================] - 4s 10ms/step - loss: 1.0911e-05\n",
      "Epoch 79/100\n",
      "419/419 [==============================] - 4s 11ms/step - loss: 9.6788e-06\n",
      "Epoch 80/100\n",
      "419/419 [==============================] - 4s 10ms/step - loss: 1.6286e-05\n",
      "Epoch 81/100\n",
      "419/419 [==============================] - 5s 11ms/step - loss: 1.1547e-05\n",
      "Epoch 82/100\n",
      "419/419 [==============================] - 4s 11ms/step - loss: 9.3674e-06\n",
      "Epoch 83/100\n",
      "419/419 [==============================] - 4s 10ms/step - loss: 1.1487e-05\n",
      "Epoch 84/100\n",
      "419/419 [==============================] - 4s 10ms/step - loss: 9.5819e-06\n",
      "Epoch 85/100\n",
      "419/419 [==============================] - 4s 11ms/step - loss: 1.0571e-05\n",
      "Epoch 86/100\n",
      "419/419 [==============================] - 4s 11ms/step - loss: 1.0904e-05\n",
      "Epoch 87/100\n",
      "419/419 [==============================] - 5s 11ms/step - loss: 1.1242e-05\n",
      "Epoch 88/100\n",
      "419/419 [==============================] - 5s 11ms/step - loss: 1.4114e-05\n",
      "Epoch 89/100\n",
      "419/419 [==============================] - 5s 11ms/step - loss: 1.0708e-05\n",
      "Epoch 90/100\n",
      "419/419 [==============================] - 4s 10ms/step - loss: 9.9867e-06\n",
      "Epoch 91/100\n",
      "419/419 [==============================] - 4s 10ms/step - loss: 1.1070e-05\n",
      "Epoch 92/100\n",
      "419/419 [==============================] - 5s 11ms/step - loss: 1.1206e-05\n",
      "Epoch 93/100\n",
      "419/419 [==============================] - 5s 11ms/step - loss: 9.2670e-06\n",
      "Epoch 94/100\n",
      "419/419 [==============================] - 5s 11ms/step - loss: 1.0994e-05\n",
      "Epoch 95/100\n",
      "419/419 [==============================] - 5s 11ms/step - loss: 1.1995e-05\n",
      "Epoch 96/100\n",
      "419/419 [==============================] - 5s 11ms/step - loss: 1.0893e-05\n",
      "Epoch 97/100\n",
      "419/419 [==============================] - 5s 11ms/step - loss: 9.9985e-06\n",
      "Epoch 98/100\n",
      "419/419 [==============================] - 4s 11ms/step - loss: 1.0702e-05\n",
      "Epoch 99/100\n",
      "419/419 [==============================] - 5s 11ms/step - loss: 1.0686e-05\n",
      "Epoch 100/100\n",
      "419/419 [==============================] - 4s 10ms/step - loss: 1.1961e-05\n"
     ]
    },
    {
     "data": {
      "text/plain": [
       "<keras.callbacks.History at 0x228fec91af0>"
      ]
     },
     "execution_count": 16,
     "metadata": {},
     "output_type": "execute_result"
    }
   ],
   "source": [
    "# train the LSTM model\n",
    "model.fit(X_train, y_train, epochs=100, batch_size=16)"
   ]
  },
  {
   "cell_type": "code",
   "execution_count": 17,
   "id": "49ca7414",
   "metadata": {},
   "outputs": [
    {
     "name": "stdout",
     "output_type": "stream",
     "text": [
      "53/53 [==============================] - 2s 5ms/step\n"
     ]
    }
   ],
   "source": [
    "# make predictions on test data\n",
    "y_pred = model.predict(X_test)\n"
   ]
  },
  {
   "cell_type": "code",
   "execution_count": 18,
   "id": "2dc9b6a6",
   "metadata": {},
   "outputs": [],
   "source": [
    "# # rescale the predictions and actual values\n",
    "# y_pred_unscaled = scaler.inverse_transform(y_pred)\n",
    "# y_test_unscaled = scaler.inverse_transform(y_test.reshape(-1, 1))\n"
   ]
  },
  {
   "cell_type": "code",
   "execution_count": 19,
   "id": "0c10de12",
   "metadata": {},
   "outputs": [],
   "source": [
    "\n",
    "# evaluate the model using root mean squared error\n",
    "# rmse = np.sqrt(mean_squared_error(y_test_unscaled, y_pred_unscaled))\n",
    "# print(\"RMSE:\", rmse)"
   ]
  },
  {
   "cell_type": "code",
   "execution_count": 20,
   "id": "4c075631",
   "metadata": {},
   "outputs": [
    {
     "name": "stdout",
     "output_type": "stream",
     "text": [
      "53/53 [==============================] - 1s 5ms/step - loss: 2.6974e-04\n",
      "Mean squared error on test data: 0.0003\n",
      "53/53 [==============================] - 0s 5ms/step\n"
     ]
    }
   ],
   "source": [
    "# Evaluate the model on test data\n",
    "mse= model.evaluate(X_test, y_test)\n",
    "print(f\"Mean squared error on test data: {mse:.4f}\")\n",
    "\n",
    "# Make predictions on test data\n",
    "y_pred_lstm = model.predict(X_test)\n",
    "y_pred_lstm = scaler.inverse_transform(y_pred_lstm)\n",
    "y_test = scaler.inverse_transform(y_test.reshape(-1, 1))"
   ]
  },
  {
   "cell_type": "code",
   "execution_count": 21,
   "id": "c529f986",
   "metadata": {},
   "outputs": [
    {
     "name": "stdout",
     "output_type": "stream",
     "text": [
      "The R2 Score of LSTM model is: 99.63836480907386\n"
     ]
    }
   ],
   "source": [
    "from sklearn.metrics import r2_score\n",
    "\n",
    "print(\"The R2 Score of LSTM model is:\",r2_score(y_pred_lstm,y_test)*100)"
   ]
  },
  {
   "cell_type": "code",
   "execution_count": null,
   "id": "71e78793",
   "metadata": {},
   "outputs": [],
   "source": []
  },
  {
   "cell_type": "code",
   "execution_count": 22,
   "id": "7529977d",
   "metadata": {},
   "outputs": [
    {
     "data": {
      "text/plain": [
       "(1667, 12, 1)"
      ]
     },
     "execution_count": 22,
     "metadata": {},
     "output_type": "execute_result"
    }
   ],
   "source": [
    "X_test.shape"
   ]
  },
  {
   "cell_type": "code",
   "execution_count": 25,
   "id": "c281c00c",
   "metadata": {},
   "outputs": [
    {
     "data": {
      "image/png": "[encoded data removed]",
      "text/plain": [
       "<Figure size 640x480 with 1 Axes>"
      ]
     },
     "metadata": {},
     "output_type": "display_data"
    }
   ],
   "source": [
    "import matplotlib.pyplot as plt\n",
    "\n",
    "plt.plot(y_test, label='Actual Dollar Rate')\n",
    "plt.plot(y_pred_lstm, label='Predicted Dollar Rate')\n",
    "plt.legend()\n",
    "plt.show()"
   ]
  },
  {
   "cell_type": "code",
   "execution_count": 26,
   "id": "c71f3cfe",
   "metadata": {
    "scrolled": true
   },
   "outputs": [],
   "source": [
    "# # make predictions for the next 12 months\n",
    "# future_dates = pd.date_range(df.index[-1], periods=12, freq='MS')[1:]\n",
    "# future_dates_df = pd.DataFrame(index=future_dates, columns=df.columns)\n",
    "# future_df = pd.concat([df, future_dates_df])\n",
    "\n",
    "# future_df['scaled_Dollar_Rate'] = scaler.fit_transform(future_df[['Dollar_Rate']])\n",
    "# X_future = []\n",
    "# for i in range(len(future_df)-12, len(future_df)):\n",
    "#     X_future.append(future_df.iloc[i-12:i, :])\n",
    "# X_future = np.array(X_future)\n",
    "\n",
    "# future_y_pred = model.predict(X_future)\n",
    "# future_y_pred_unscaled = scaler.inverse_transform(future_y_pred)\n",
    "\n",
    "# # print the predicted Dollar Rate for the next 12 months\n",
    "# print(future_y_pred_unscaled[:, 0])"
   ]
  },
  {
   "cell_type": "code",
   "execution_count": 27,
   "id": "8b6cc012",
   "metadata": {},
   "outputs": [
    {
     "ename": "NameError",
     "evalue": "name 'X_future' is not defined",
     "output_type": "error",
     "traceback": [
      "\u001b[1;31m---------------------------------------------------------------------------\u001b[0m",
      "\u001b[1;31mNameError\u001b[0m                                 Traceback (most recent call last)",
      "\u001b[1;32m~\\AppData\\Local\\Temp\\ipykernel_10752\\3383541852.py\u001b[0m in \u001b[0;36m<module>\u001b[1;34m\u001b[0m\n\u001b[1;32m----> 1\u001b[1;33m \u001b[0mX_future\u001b[0m\u001b[1;33m.\u001b[0m\u001b[0mreshape\u001b[0m\u001b[1;33m(\u001b[0m\u001b[1;36m12\u001b[0m\u001b[1;33m,\u001b[0m\u001b[1;36m12\u001b[0m\u001b[1;33m,\u001b[0m\u001b[1;36m1\u001b[0m\u001b[1;33m)\u001b[0m\u001b[1;33m\u001b[0m\u001b[1;33m\u001b[0m\u001b[0m\n\u001b[0m",
      "\u001b[1;31mNameError\u001b[0m: name 'X_future' is not defined"
     ]
    }
   ],
   "source": [
    "X_future.reshape(12,12,1)"
   ]
  },
  {
   "cell_type": "code",
   "execution_count": 28,
   "id": "85bda8d7",
   "metadata": {},
   "outputs": [],
   "source": [
    "test = X_test[-12:][1]"
   ]
  },
  {
   "cell_type": "code",
   "execution_count": 29,
   "id": "751cce22",
   "metadata": {},
   "outputs": [],
   "source": [
    "test = test.reshape(1,12,1)"
   ]
  },
  {
   "cell_type": "code",
   "execution_count": 30,
   "id": "2ca3555b",
   "metadata": {},
   "outputs": [
    {
     "name": "stdout",
     "output_type": "stream",
     "text": [
      "1/1 [==============================] - 0s 23ms/step\n",
      "1/1 [==============================] - 0s 22ms/step\n",
      "1/1 [==============================] - 0s 36ms/step\n",
      "1/1 [==============================] - 0s 32ms/step\n",
      "1/1 [==============================] - 0s 25ms/step\n"
     ]
    }
   ],
   "source": [
    "pred_values = []\n",
    "for i in range(5):\n",
    "    predicted = model.predict(test)\n",
    "    test = test[:,1:,:]\n",
    "    test = np.append(test,predicted[-1,-1])\n",
    "    pred_values.append(predicted[-1,-1])\n",
    "    test = test.reshape(1,12,1)"
   ]
  },
  {
   "cell_type": "code",
   "execution_count": 31,
   "id": "60028d97",
   "metadata": {},
   "outputs": [],
   "source": [
    "pred_values = np.array(pred_values)\n",
    "pred_values = scaler.inverse_transform(pred_values.reshape(-1,1))"
   ]
  },
  {
   "cell_type": "code",
   "execution_count": 32,
   "id": "0b7f82f7",
   "metadata": {},
   "outputs": [
    {
     "data": {
      "text/plain": [
       "array([[80.16879],\n",
       "       [77.87946],\n",
       "       [75.85994],\n",
       "       [74.20632],\n",
       "       [72.81744]], dtype=float32)"
      ]
     },
     "execution_count": 32,
     "metadata": {},
     "output_type": "execute_result"
    }
   ],
   "source": [
    "pred_values"
   ]
  },
  {
   "cell_type": "code",
   "execution_count": 33,
   "id": "013e9e02",
   "metadata": {},
   "outputs": [
    {
     "data": {
      "text/plain": [
       "array([[72.81744]], dtype=float32)"
      ]
     },
     "execution_count": 33,
     "metadata": {},
     "output_type": "execute_result"
    }
   ],
   "source": [
    "predicted = scaler.inverse_transform(predicted)\n",
    "predicted"
   ]
  },
  {
   "cell_type": "code",
   "execution_count": 34,
   "id": "2e7ddc7d",
   "metadata": {},
   "outputs": [
    {
     "data": {
      "text/plain": [
       "array([[[1.74056604],\n",
       "        [1.74179971],\n",
       "        [1.77963232],\n",
       "        [1.78589744],\n",
       "        [1.81761006],\n",
       "        [1.80599903],\n",
       "        [1.75347829],\n",
       "        [1.69810033],\n",
       "        [1.6492486 ],\n",
       "        [1.60924828],\n",
       "        [1.57565165]]])"
      ]
     },
     "execution_count": 34,
     "metadata": {},
     "output_type": "execute_result"
    }
   ],
   "source": [
    "test = test[:,1:,:]\n",
    "test"
   ]
  },
  {
   "cell_type": "code",
   "execution_count": 35,
   "id": "b1fd0efa",
   "metadata": {},
   "outputs": [],
   "source": [
    "test = np.append(test,20)"
   ]
  },
  {
   "cell_type": "code",
   "execution_count": 36,
   "id": "f9f9c8b2",
   "metadata": {},
   "outputs": [
    {
     "data": {
      "text/plain": [
       "array([ 1.74056604,  1.74179971,  1.77963232,  1.78589744,  1.81761006,\n",
       "        1.80599903,  1.75347829,  1.69810033,  1.6492486 ,  1.60924828,\n",
       "        1.57565165, 20.        ])"
      ]
     },
     "execution_count": 36,
     "metadata": {},
     "output_type": "execute_result"
    }
   ],
   "source": [
    "test"
   ]
  },
  {
   "cell_type": "code",
   "execution_count": null,
   "id": "35045dc0",
   "metadata": {},
   "outputs": [],
   "source": []
  },
  {
   "cell_type": "code",
   "execution_count": null,
   "id": "bcba6e76",
   "metadata": {},
   "outputs": [],
   "source": []
  }
 ],
 "metadata": {
  "kernelspec": {
   "display_name": "Python 3 (ipykernel)",
   "language": "python",
   "name": "python3"
  },
  "language_info": {
   "codemirror_mode": {
    "name": "ipython",
    "version": 3
   },
   "file_extension": ".py",
   "mimetype": "text/x-python",
   "name": "python",
   "nbconvert_exporter": "python",
   "pygments_lexer": "ipython3",
   "version": "3.9.13"
  }
 },
 "nbformat": 4,
 "nbformat_minor": 5
}
